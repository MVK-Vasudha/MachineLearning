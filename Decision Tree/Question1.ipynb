{
 "cells": [
  {
   "cell_type": "markdown",
   "metadata": {},
   "source": [
    "Import Libraries"
   ]
  },
  {
   "cell_type": "code",
   "execution_count": 39,
   "metadata": {},
   "outputs": [],
   "source": [
    "import numpy as np\n",
    "import pandas as pd\n",
    "import matplotlib.pyplot as plt"
   ]
  },
  {
   "cell_type": "markdown",
   "metadata": {},
   "source": [
    "Import Dataset"
   ]
  },
  {
   "cell_type": "code",
   "execution_count": 51,
   "metadata": {},
   "outputs": [
    {
     "name": "stdout",
     "output_type": "stream",
     "text": [
      "Dataset Length :  14\n",
      "DataSet Shape :  (14, 5)\n"
     ]
    }
   ],
   "source": [
    "dataSet = pd.read_csv('Enjoy sports.csv')\n",
    "dataSet = dataSet.drop(columns=['Day']) \n",
    "print('Dataset Length : ', len(dataSet))\n",
    "print('DataSet Shape : ', dataSet.shape)"
   ]
  },
  {
   "cell_type": "markdown",
   "metadata": {},
   "source": [
    "Entropy Function"
   ]
  },
  {
   "cell_type": "code",
   "execution_count": 41,
   "metadata": {},
   "outputs": [],
   "source": [
    "def entropy (dataSet):\n",
    "    d = dataSet.iloc[:, -1]\n",
    "    d = d.value_counts()\n",
    "    s = 0\n",
    "    for v in d.keys():\n",
    "        p = d[v] / sum(d)\n",
    "        s -= p * np.log2(p)\n",
    "    return s"
   ]
  },
  {
   "cell_type": "code",
   "execution_count": 42,
   "metadata": {},
   "outputs": [],
   "source": [
    "def values (attr):\n",
    "    return list(set(attr))"
   ]
  },
  {
   "cell_type": "markdown",
   "metadata": {},
   "source": [
    "Information Gain Function"
   ]
  },
  {
   "cell_type": "code",
   "execution_count": 43,
   "metadata": {},
   "outputs": [],
   "source": [
    "def informationGain (dataSet, attr):\n",
    "    e = entropy(dataSet)\n",
    "    val = values(dataSet[attr])\n",
    "    s_c = dataSet[attr].value_counts()\n",
    "    s_v = []\n",
    "    for v in val:\n",
    "        ds = dataSet[dataSet[attr] == v]\n",
    "        s = 0\n",
    "        for res in values(dataSet.iloc[:, -1]):\n",
    "            try:\n",
    "                pi = ds.iloc[:, -1].value_counts()[res] / len(ds)\n",
    "                s -= pi * np.log2(pi)\n",
    "            except:\n",
    "                s = 0\n",
    "        s_v.append(s)\n",
    "    \n",
    "    for i in range (len(val)):\n",
    "        e = e - s_c[val[i]] * s_v[i] / sum(s_c)\n",
    "        \n",
    "    return e"
   ]
  },
  {
   "cell_type": "markdown",
   "metadata": {},
   "source": [
    "Class of Node"
   ]
  },
  {
   "cell_type": "code",
   "execution_count": 44,
   "metadata": {},
   "outputs": [],
   "source": [
    "class Node():\n",
    "\n",
    "    def __init__(self, name=None, attr=None, is_leaf=False, classification=None):\n",
    "        self.name = name\n",
    "        self.attr = attr\n",
    "        self.is_leaf = is_leaf\n",
    "        self.classification = classification\n",
    "        self.children = {}\n",
    "\n"
   ]
  },
  {
   "cell_type": "markdown",
   "metadata": {},
   "source": [
    "Function for making a Decision Tree Node"
   ]
  },
  {
   "cell_type": "code",
   "execution_count": 66,
   "metadata": {},
   "outputs": [],
   "source": [
    "def DTNode(dataSet, features_used):\n",
    "    node = Node()\n",
    "    IGmax = 0\n",
    "    vbest = None\n",
    "    \n",
    "    valList = [v for v in dataSet.columns[:-1] if v not in features_used]\n",
    "\n",
    "    if valList:\n",
    "        for v in valList:\n",
    "            gain = informationGain(dataSet, v)\n",
    "            if gain > IGmax:\n",
    "                IGmax = gain\n",
    "                vbest = v\n",
    "\n",
    "        if vbest:\n",
    "            features_used.append(vbest)\n",
    "            node.name = vbest\n",
    "            node.attr = values(dataSet[vbest])\n",
    "            return node\n",
    "        else:\n",
    "            return node\n",
    "    return None\n"
   ]
  },
  {
   "cell_type": "markdown",
   "metadata": {},
   "source": [
    "Function for classifying the Decision Tree"
   ]
  },
  {
   "cell_type": "code",
   "execution_count": 69,
   "metadata": {},
   "outputs": [],
   "source": [
    "def DTClassifier(dataSet, features_used):\n",
    "    root = DTNode(dataSet, features_used)\n",
    "    \n",
    "    if root is None:\n",
    "        return None\n",
    "    \n",
    "    # If the dataset is pure (entropy is 0), create a leaf node\n",
    "    if entropy(dataSet) == 0:\n",
    "        classification = values(dataSet.iloc[:, -1])[0]\n",
    "        return Node(is_leaf=True, classification=classification)\n",
    "    \n",
    "    for attr_val in root.attr:\n",
    "        subset = dataSet[dataSet[root.name] == attr_val]\n",
    "        if len(subset) == 0:\n",
    "            continue\n",
    "        \n",
    "        # If the subset is pure, create a leaf node\n",
    "        if entropy(subset) == 0:\n",
    "            classification = values(subset.iloc[:, -1])[0]\n",
    "            root.children[attr_val] = Node(is_leaf=True, classification=classification)\n",
    "        else:\n",
    "            root.children[attr_val] = DTClassifier(subset, features_used.copy())\n",
    "    \n",
    "    return root\n"
   ]
  },
  {
   "cell_type": "markdown",
   "metadata": {},
   "source": [
    "Function for Printing the tree"
   ]
  },
  {
   "cell_type": "code",
   "execution_count": 70,
   "metadata": {},
   "outputs": [],
   "source": [
    "def print_tree(node, depth=0, prefix=\"\"):\n",
    "    if node.is_leaf:\n",
    "        print(f\"{prefix}: {node.classification}\")\n",
    "    else:\n",
    "        print(f\"{prefix}{node.name}\")\n",
    "        \n",
    "        for i, (attr_val, child_node) in enumerate(node.children.items()):\n",
    "            if i == len(node.children) - 1:\n",
    "                new_prefix = prefix + \"└── \"\n",
    "            else:\n",
    "                new_prefix = prefix + \"├── \"\n",
    "            \n",
    "            if child_node.is_leaf:\n",
    "                print(f\"{new_prefix}{attr_val}: {child_node.classification}\")\n",
    "            else:\n",
    "                print(f\"{new_prefix}{attr_val}\")\n",
    "                print_tree(child_node, depth + 1, new_prefix + \" \")\n"
   ]
  },
  {
   "cell_type": "markdown",
   "metadata": {},
   "source": [
    "Driver Code"
   ]
  },
  {
   "cell_type": "code",
   "execution_count": 48,
   "metadata": {},
   "outputs": [
    {
     "name": "stdout",
     "output_type": "stream",
     "text": [
      "0.9402859586706311\n"
     ]
    }
   ],
   "source": [
    "print(entropy(dataSet))"
   ]
  },
  {
   "cell_type": "code",
   "execution_count": 49,
   "metadata": {},
   "outputs": [
    {
     "name": "stdout",
     "output_type": "stream",
     "text": [
      "[0.24674981977443927, 0.029222565658954758, 0.15183550136234164, 0.04812703040826949]\n"
     ]
    }
   ],
   "source": [
    "iGain = [informationGain(dataSet, 'Outlook'), informationGain(dataSet, 'Temp.'), informationGain(dataSet, 'Humidity'), informationGain(dataSet, 'Wind')]\n",
    "print(iGain)"
   ]
  },
  {
   "cell_type": "code",
   "execution_count": 71,
   "metadata": {},
   "outputs": [
    {
     "name": "stdout",
     "output_type": "stream",
     "text": [
      "Decision Tree Structure:\n",
      "Outlook\n",
      "├── Rain\n",
      "├──  Wind\n",
      "├──  ├── Strong: No\n",
      "├──  └── Weak: Yes\n",
      "├── Sunny\n",
      "├──  Humidity\n",
      "├──  ├── Normal: Yes\n",
      "├──  └── High: No\n",
      "└── Overcast: Yes\n"
     ]
    }
   ],
   "source": [
    "features_used = []\n",
    "decisionTree = DTClassifier(dataSet, features_used)\n",
    "print(\"Decision Tree Structure:\")\n",
    "print_tree(decisionTree)"
   ]
  },
  {
   "cell_type": "code",
   "execution_count": null,
   "metadata": {},
   "outputs": [],
   "source": []
  }
 ],
 "metadata": {
  "kernelspec": {
   "display_name": "Python 3",
   "language": "python",
   "name": "python3"
  },
  "language_info": {
   "codemirror_mode": {
    "name": "ipython",
    "version": 3
   },
   "file_extension": ".py",
   "mimetype": "text/x-python",
   "name": "python",
   "nbconvert_exporter": "python",
   "pygments_lexer": "ipython3",
   "version": "3.12.1"
  }
 },
 "nbformat": 4,
 "nbformat_minor": 2
}
