{
 "cells": [
  {
   "cell_type": "code",
   "execution_count": 23,
   "metadata": {},
   "outputs": [],
   "source": [
    "from sklearn.model_selection import train_test_split\n",
    "from sklearn.linear_model import LinearRegression\n",
    "from sklearn.ensemble import RandomForestRegressor\n",
    "from sklearn.feature_selection import VarianceThreshold, RFE, SelectFromModel\n",
    "from sklearn.metrics import mean_squared_error\n",
    "import numpy as np\n",
    "import pandas as pd"
   ]
  },
  {
   "cell_type": "code",
   "execution_count": 24,
   "metadata": {},
   "outputs": [],
   "source": [
    "melbourne_data = pd.read_csv('melbourne_housing_raw.csv')\n",
    "\n"
   ]
  },
  {
   "cell_type": "code",
   "execution_count": 25,
   "metadata": {},
   "outputs": [],
   "source": [
    "missing_percentage = melbourne_data.isnull().mean() * 100\n",
    "columns_to_remove = [col for col in missing_percentage.index if missing_percentage[col] > 20 and col != 'Price']\n",
    "reduced_data = melbourne_data.drop(columns=columns_to_remove)"
   ]
  },
  {
   "cell_type": "code",
   "execution_count": 26,
   "metadata": {},
   "outputs": [],
   "source": [
    "reduced_data = reduced_data.dropna(subset=['Price'])\n",
    "X = reduced_data.drop(columns=['Price', 'Date', 'Suburb', 'Type', 'Method', 'SellerG', 'CouncilArea', 'Regionname'])\n",
    "y = reduced_data['Price']"
   ]
  },
  {
   "cell_type": "code",
   "execution_count": 27,
   "metadata": {},
   "outputs": [],
   "source": [
    "X.fillna(X.mean(), inplace=True)\n",
    "\n",
    "# Split data into training and test sets\n",
    "X_train, X_test, y_train, y_test = train_test_split(X, y, test_size=0.2, random_state=42)\n",
    "\n"
   ]
  },
  {
   "cell_type": "code",
   "execution_count": 28,
   "metadata": {},
   "outputs": [],
   "source": [
    "corr_matrix = X_train.corr().abs()\n",
    "\n",
    "# Identify pairs of highly correlated features\n",
    "high_corr_pairs = np.where(corr_matrix > 0.85)\n",
    "high_corr_features = set([X_train.columns[i] for i in high_corr_pairs[0] if i != high_corr_pairs[1][i]])"
   ]
  },
  {
   "cell_type": "code",
   "execution_count": 29,
   "metadata": {},
   "outputs": [],
   "source": [
    "X_train_corr_filtered = X_train.drop(columns=high_corr_features)\n",
    "X_test_corr_filtered = X_test.drop(columns=high_corr_features)"
   ]
  },
  {
   "cell_type": "code",
   "execution_count": 30,
   "metadata": {},
   "outputs": [],
   "source": [
    "variance_filter = VarianceThreshold(threshold=0.01)  # Example threshold for low variance\n",
    "X_train_low_var = variance_filter.fit_transform(X_train_corr_filtered)\n",
    "X_test_low_var = variance_filter.transform(X_test_corr_filtered)\n",
    "\n"
   ]
  },
  {
   "cell_type": "code",
   "execution_count": 31,
   "metadata": {},
   "outputs": [
    {
     "name": "stderr",
     "output_type": "stream",
     "text": [
      "c:\\Users\\jayad\\AppData\\Local\\Programs\\Python\\Python312\\Lib\\site-packages\\sklearn\\feature_selection\\_rfe.py:291: UserWarning: Found n_features_to_select=5 > n_features=4. There will be no feature selection and all features will be kept.\n",
      "  warnings.warn(\n"
     ]
    }
   ],
   "source": [
    "linear_model = LinearRegression()\n",
    "rfe_selector = RFE(estimator=linear_model, n_features_to_select=5, step=1)\n",
    "rfe_selector.fit(X_train_low_var, y_train)\n",
    "X_train_forward = rfe_selector.transform(X_train_low_var)\n",
    "X_test_forward = rfe_selector.transform(X_test_low_var)\n",
    "\n"
   ]
  },
  {
   "cell_type": "code",
   "execution_count": 32,
   "metadata": {},
   "outputs": [
    {
     "name": "stderr",
     "output_type": "stream",
     "text": [
      "c:\\Users\\jayad\\AppData\\Local\\Programs\\Python\\Python312\\Lib\\site-packages\\sklearn\\feature_selection\\_rfe.py:291: UserWarning: Found n_features_to_select=5 > n_features=4. There will be no feature selection and all features will be kept.\n",
      "  warnings.warn(\n"
     ]
    }
   ],
   "source": [
    "random_forest_model = RandomForestRegressor(random_state=42)\n",
    "rfe_backward = RFE(estimator=random_forest_model, n_features_to_select=5, step=1)\n",
    "rfe_backward.fit(X_train_low_var, y_train)\n",
    "X_train_backward = rfe_backward.transform(X_train_low_var)\n",
    "X_test_backward = rfe_backward.transform(X_test_low_var)\n",
    "\n"
   ]
  },
  {
   "cell_type": "code",
   "execution_count": 33,
   "metadata": {},
   "outputs": [
    {
     "name": "stderr",
     "output_type": "stream",
     "text": [
      "c:\\Users\\jayad\\AppData\\Local\\Programs\\Python\\Python312\\Lib\\site-packages\\sklearn\\base.py:486: UserWarning: X has feature names, but SelectFromModel was fitted without feature names\n",
      "  warnings.warn(\n",
      "c:\\Users\\jayad\\AppData\\Local\\Programs\\Python\\Python312\\Lib\\site-packages\\sklearn\\base.py:486: UserWarning: X has feature names, but SelectFromModel was fitted without feature names\n",
      "  warnings.warn(\n"
     ]
    }
   ],
   "source": [
    "rf_model = RandomForestRegressor(random_state=42)\n",
    "rf_model.fit(X_train, y_train)\n",
    "important_features = SelectFromModel(rf_model, threshold=\"mean\", prefit=True)\n",
    "X_train_rf_selected = important_features.transform(X_train)\n",
    "X_test_rf_selected = important_features.transform(X_test)"
   ]
  },
  {
   "cell_type": "code",
   "execution_count": 34,
   "metadata": {},
   "outputs": [],
   "source": [
    "def evaluate_model(X_train, X_test, y_train, y_test):\n",
    "    model = RandomForestRegressor(random_state=42)\n",
    "    model.fit(X_train, y_train)\n",
    "    predictions = model.predict(X_test)\n",
    "    mse = mean_squared_error(y_test, predictions)\n",
    "    return mse"
   ]
  },
  {
   "cell_type": "code",
   "execution_count": 35,
   "metadata": {},
   "outputs": [
    {
     "data": {
      "text/plain": [
       "{'Baseline (No Feature Selection)': 143875373039.6255,\n",
       " 'High Correlation Filter': 143875373039.6255,\n",
       " 'Low Variance Filter': 143875373039.6255,\n",
       " 'Forward Selection': 143875373039.6255,\n",
       " 'Backward Elimination': 143875373039.6255,\n",
       " 'Random Forest Selection': 147811757361.13766}"
      ]
     },
     "execution_count": 35,
     "metadata": {},
     "output_type": "execute_result"
    }
   ],
   "source": [
    "results = {\n",
    "    \"Baseline (No Feature Selection)\": evaluate_model(X_train, X_test, y_train, y_test),\n",
    "    \"High Correlation Filter\": evaluate_model(X_train_corr_filtered, X_test_corr_filtered, y_train, y_test),\n",
    "    \"Low Variance Filter\": evaluate_model(X_train_low_var, X_test_low_var, y_train, y_test),\n",
    "    \"Forward Selection\": evaluate_model(X_train_forward, X_test_forward, y_train, y_test),\n",
    "    \"Backward Elimination\": evaluate_model(X_train_backward, X_test_backward, y_train, y_test),\n",
    "    \"Random Forest Selection\": evaluate_model(X_train_rf_selected, X_test_rf_selected, y_train, y_test)\n",
    "}\n",
    "\n",
    "results"
   ]
  }
 ],
 "metadata": {
  "kernelspec": {
   "display_name": "Python 3",
   "language": "python",
   "name": "python3"
  },
  "language_info": {
   "codemirror_mode": {
    "name": "ipython",
    "version": 3
   },
   "file_extension": ".py",
   "mimetype": "text/x-python",
   "name": "python",
   "nbconvert_exporter": "python",
   "pygments_lexer": "ipython3",
   "version": "3.12.1"
  }
 },
 "nbformat": 4,
 "nbformat_minor": 2
}
