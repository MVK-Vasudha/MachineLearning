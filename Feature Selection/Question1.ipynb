{
 "cells": [
  {
   "cell_type": "code",
   "execution_count": 1,
   "metadata": {},
   "outputs": [],
   "source": [
    "import pandas as pd\n",
    "import numpy as np\n",
    "from sklearn.model_selection import train_test_split\n",
    "from sklearn.linear_model import LogisticRegression\n",
    "from sklearn.ensemble import RandomForestClassifier\n",
    "from sklearn.feature_selection import VarianceThreshold, RFECV\n",
    "from sklearn.metrics import accuracy_score"
   ]
  },
  {
   "cell_type": "code",
   "execution_count": 2,
   "metadata": {},
   "outputs": [],
   "source": [
    "diabetes_data = pd.read_csv('diabetes.csv')"
   ]
  },
  {
   "cell_type": "code",
   "execution_count": 3,
   "metadata": {},
   "outputs": [],
   "source": [
    "missing_diabetes = diabetes_data.isnull().mean()\n",
    "diabetes_cleaned = diabetes_data.loc[:, missing_diabetes < 0.3]"
   ]
  },
  {
   "cell_type": "code",
   "execution_count": 4,
   "metadata": {},
   "outputs": [],
   "source": [
    "X_diabetes = diabetes_cleaned.drop(columns=['Outcome'])\n",
    "y_diabetes = diabetes_cleaned['Outcome']\n",
    "\n",
    "X_train_diabetes, X_test_diabetes, y_train_diabetes, y_test_diabetes = train_test_split(X_diabetes, y_diabetes, test_size=0.3, random_state=42)\n"
   ]
  },
  {
   "cell_type": "code",
   "execution_count": 5,
   "metadata": {},
   "outputs": [
    {
     "name": "stdout",
     "output_type": "stream",
     "text": [
      "Accuracy after Missing Value Filter (Diabetes): 0.7359\n"
     ]
    }
   ],
   "source": [
    "model_diabetes = LogisticRegression(max_iter=200)\n",
    "model_diabetes.fit(X_train_diabetes, y_train_diabetes)\n",
    "y_pred_diabetes = model_diabetes.predict(X_test_diabetes)\n",
    "accuracy_diabetes = accuracy_score(y_test_diabetes, y_pred_diabetes)\n",
    "print(f'Accuracy after Missing Value Filter (Diabetes): {accuracy_diabetes:.4f}')\n"
   ]
  },
  {
   "cell_type": "code",
   "execution_count": 6,
   "metadata": {},
   "outputs": [],
   "source": [
    "correlation_matrix_diabetes = diabetes_cleaned.corr()\n",
    "high_corr_pairs_diabetes = correlation_matrix_diabetes[correlation_matrix_diabetes.abs() > 0.8].stack().index.tolist()\n",
    "to_drop_diabetes = set()\n",
    "\n",
    "for i, j in high_corr_pairs_diabetes:\n",
    "    if i != j:\n",
    "        to_drop_diabetes.add(j)\n",
    "\n",
    "diabetes_cleaned_corr = diabetes_cleaned.drop(columns=to_drop_diabetes)"
   ]
  },
  {
   "cell_type": "code",
   "execution_count": 7,
   "metadata": {},
   "outputs": [],
   "source": [
    "X_diabetes_corr = diabetes_cleaned_corr.drop(columns=['Outcome'])\n",
    "y_diabetes_corr = diabetes_cleaned_corr['Outcome']\n",
    "\n",
    "X_train_diabetes_corr, X_test_diabetes_corr, y_train_diabetes_corr, y_test_diabetes_corr = train_test_split(X_diabetes_corr, y_diabetes_corr, test_size=0.3, random_state=42)\n"
   ]
  },
  {
   "cell_type": "code",
   "execution_count": 8,
   "metadata": {},
   "outputs": [
    {
     "name": "stdout",
     "output_type": "stream",
     "text": [
      "Accuracy after High Correlation Filter (Diabetes): 0.7359\n"
     ]
    }
   ],
   "source": [
    "model_diabetes_corr = LogisticRegression(max_iter=200)\n",
    "model_diabetes_corr.fit(X_train_diabetes_corr, y_train_diabetes_corr)\n",
    "y_pred_diabetes_corr = model_diabetes_corr.predict(X_test_diabetes_corr)\n",
    "accuracy_diabetes_corr = accuracy_score(y_test_diabetes_corr, y_pred_diabetes_corr)\n",
    "print(f'Accuracy after High Correlation Filter (Diabetes): {accuracy_diabetes_corr:.4f}')\n"
   ]
  },
  {
   "cell_type": "code",
   "execution_count": 9,
   "metadata": {},
   "outputs": [],
   "source": [
    "X_diabetes = diabetes_cleaned.drop(columns=['Outcome'])\n",
    "selector_diabetes = VarianceThreshold(threshold=0.01)\n",
    "X_diabetes_low_variance = selector_diabetes.fit_transform(X_diabetes)"
   ]
  },
  {
   "cell_type": "code",
   "execution_count": 10,
   "metadata": {},
   "outputs": [],
   "source": [
    "mask_diabetes = selector_diabetes.get_support()\n"
   ]
  },
  {
   "cell_type": "code",
   "execution_count": 11,
   "metadata": {},
   "outputs": [],
   "source": [
    "low_variance_features = X_diabetes.loc[:, mask_diabetes]\n",
    "\n",
    "diabetes_low_variance = pd.concat([low_variance_features, y_diabetes.reset_index(drop=True)], axis=1)\n"
   ]
  },
  {
   "cell_type": "code",
   "execution_count": 12,
   "metadata": {},
   "outputs": [],
   "source": [
    "X_low_variance = diabetes_low_variance.drop(columns=['Outcome'])\n",
    "y_low_variance = diabetes_low_variance['Outcome']\n",
    "\n",
    "# Split the data into training and testing sets\n",
    "X_low_variance_train, X_low_variance_test, y_low_variance_train, y_low_variance_test = train_test_split(X_low_variance, y_low_variance, test_size=0.3, random_state=42)\n"
   ]
  },
  {
   "cell_type": "code",
   "execution_count": 13,
   "metadata": {},
   "outputs": [],
   "source": [
    "model_diabetes_low_variance = LogisticRegression(max_iter=200)\n",
    "model_diabetes_low_variance.fit(X_low_variance_train, y_low_variance_train)\n",
    "y_pred_diabetes_low_variance = model_diabetes_low_variance.predict(X_low_variance_test)\n"
   ]
  },
  {
   "cell_type": "code",
   "execution_count": 14,
   "metadata": {},
   "outputs": [
    {
     "name": "stdout",
     "output_type": "stream",
     "text": [
      "Accuracy after Low Variance Filter (Diabetes): 0.7359\n"
     ]
    }
   ],
   "source": [
    "accuracy_diabetes_low_variance = accuracy_score(y_low_variance_test, y_pred_diabetes_low_variance)\n",
    "print(f'Accuracy after Low Variance Filter (Diabetes): {accuracy_diabetes_low_variance:.4f}')"
   ]
  },
  {
   "cell_type": "code",
   "execution_count": 15,
   "metadata": {},
   "outputs": [
    {
     "name": "stderr",
     "output_type": "stream",
     "text": [
      "c:\\Users\\mvkva\\AppData\\Local\\Programs\\Python\\Python312\\Lib\\site-packages\\sklearn\\linear_model\\_logistic.py:469: ConvergenceWarning: lbfgs failed to converge (status=1):\n",
      "STOP: TOTAL NO. of ITERATIONS REACHED LIMIT.\n",
      "\n",
      "Increase the number of iterations (max_iter) or scale the data as shown in:\n",
      "    https://scikit-learn.org/stable/modules/preprocessing.html\n",
      "Please also refer to the documentation for alternative solver options:\n",
      "    https://scikit-learn.org/stable/modules/linear_model.html#logistic-regression\n",
      "  n_iter_i = _check_optimize_result(\n",
      "c:\\Users\\mvkva\\AppData\\Local\\Programs\\Python\\Python312\\Lib\\site-packages\\sklearn\\linear_model\\_logistic.py:469: ConvergenceWarning: lbfgs failed to converge (status=1):\n",
      "STOP: TOTAL NO. of ITERATIONS REACHED LIMIT.\n",
      "\n",
      "Increase the number of iterations (max_iter) or scale the data as shown in:\n",
      "    https://scikit-learn.org/stable/modules/preprocessing.html\n",
      "Please also refer to the documentation for alternative solver options:\n",
      "    https://scikit-learn.org/stable/modules/linear_model.html#logistic-regression\n",
      "  n_iter_i = _check_optimize_result(\n"
     ]
    }
   ],
   "source": [
    "selector_rfecv_diabetes = RFECV(estimator=LogisticRegression(max_iter=200), step=1, cv=5)\n",
    "selector_rfecv_diabetes.fit(X_diabetes, y_diabetes)\n",
    "\n",
    "X_selected_diabetes = selector_rfecv_diabetes.transform(X_diabetes)\n",
    "X_train_selected_diabetes, X_test_selected_diabetes, y_train_selected_diabetes, y_test_selected_diabetes = train_test_split(X_selected_diabetes, y_diabetes, test_size=0.3, random_state=42)\n",
    "\n"
   ]
  },
  {
   "cell_type": "code",
   "execution_count": 16,
   "metadata": {},
   "outputs": [
    {
     "name": "stdout",
     "output_type": "stream",
     "text": [
      "Accuracy after Forward Feature Selection (Diabetes): 0.7359\n"
     ]
    }
   ],
   "source": [
    "model_forward_diabetes = LogisticRegression(max_iter=200)\n",
    "model_forward_diabetes.fit(X_train_selected_diabetes, y_train_selected_diabetes)\n",
    "y_pred_forward_diabetes = model_forward_diabetes.predict(X_test_selected_diabetes)\n",
    "accuracy_forward_diabetes = accuracy_score(y_test_selected_diabetes, y_pred_forward_diabetes)\n",
    "print(f'Accuracy after Forward Feature Selection (Diabetes): {accuracy_forward_diabetes:.4f}')\n"
   ]
  },
  {
   "cell_type": "code",
   "execution_count": 17,
   "metadata": {},
   "outputs": [],
   "source": [
    "remaining_features = X_diabetes.columns.tolist()\n"
   ]
  },
  {
   "cell_type": "code",
   "execution_count": 18,
   "metadata": {},
   "outputs": [
    {
     "name": "stdout",
     "output_type": "stream",
     "text": [
      "Initial Number of Features: 8\n",
      "Final Number of Features After Elimination: 5\n"
     ]
    }
   ],
   "source": [
    "from sklearn.tree import DecisionTreeClassifier\n",
    "\n",
    "# Use a Decision Tree Classifier for backward elimination\n",
    "model_backward_diabetes = DecisionTreeClassifier()\n",
    "\n",
    "# Train on the initial dataset\n",
    "model_backward_diabetes.fit(X_train_diabetes, y_train_diabetes)\n",
    "\n",
    "# Get initial feature importances and indices\n",
    "importances_diabetes = model_backward_diabetes.feature_importances_\n",
    "indices_diabetes = np.argsort(importances_diabetes)\n",
    "\n",
    "# Convert features to list to keep track during elimination\n",
    "remaining_features = list(X_diabetes.columns)\n",
    "\n",
    "print(f\"Initial Number of Features: {len(remaining_features)}\")\n",
    "\n",
    "while len(remaining_features) > 5:  # Stop when there are at least 5 features left\n",
    "    # Drop the least important feature\n",
    "    least_important_feature_index = indices_diabetes[0]\n",
    "    feature_to_drop = remaining_features[least_important_feature_index]\n",
    "    \n",
    "    # Remove the feature from dataset and from remaining features list\n",
    "    X_diabetes = X_diabetes.drop(columns=[feature_to_drop])\n",
    "    remaining_features.remove(feature_to_drop)\n",
    "    \n",
    "    # Update the model\n",
    "    X_train_diabetes, X_test_diabetes, y_train_diabetes, y_test_diabetes = train_test_split(\n",
    "        X_diabetes, y_diabetes, test_size=0.3, random_state=42)\n",
    "    \n",
    "    model_backward_diabetes.fit(X_train_diabetes, y_train_diabetes)\n",
    "    importances_diabetes = model_backward_diabetes.feature_importances_\n",
    "    indices_diabetes = np.argsort(importances_diabetes)\n",
    "\n",
    "# Print final number of features\n",
    "print(f\"Final Number of Features After Elimination: {len(remaining_features)}\")"
   ]
  },
  {
   "cell_type": "code",
   "execution_count": 19,
   "metadata": {},
   "outputs": [
    {
     "name": "stdout",
     "output_type": "stream",
     "text": [
      "Top Important Features (Diabetes):\n",
      "1. Feature 'Glucose': 0.3760\n",
      "2. Feature 'BMI': 0.2082\n",
      "3. Feature 'Age': 0.1709\n",
      "4. Feature 'DiabetesPedigreeFunction': 0.1637\n",
      "5. Feature 'BloodPressure': 0.0812\n"
     ]
    }
   ],
   "source": [
    "importances_diabetes_sorted_indices = np.argsort(importances_diabetes)[::-1]  # Sort importances\n",
    "\n",
    "# Get the number of features to print (up to 5)\n",
    "num_features_to_print = min(5, len(remaining_features))\n",
    "\n",
    "print(\"Top Important Features (Diabetes):\")\n",
    "for i in range(num_features_to_print):\n",
    "    if i < len(importances_diabetes):\n",
    "        feature_name = remaining_features[importances_diabetes_sorted_indices[i]]\n",
    "        importance_value = importances_diabetes[importances_diabetes_sorted_indices[i]]\n",
    "        print(f\"{i + 1}. Feature '{feature_name}': {importance_value:.4f}\")"
   ]
  },
  {
   "cell_type": "code",
   "execution_count": null,
   "metadata": {},
   "outputs": [],
   "source": []
  }
 ],
 "metadata": {
  "kernelspec": {
   "display_name": "Python 3",
   "language": "python",
   "name": "python3"
  },
  "language_info": {
   "codemirror_mode": {
    "name": "ipython",
    "version": 3
   },
   "file_extension": ".py",
   "mimetype": "text/x-python",
   "name": "python",
   "nbconvert_exporter": "python",
   "pygments_lexer": "ipython3",
   "version": "3.12.4"
  }
 },
 "nbformat": 4,
 "nbformat_minor": 2
}
