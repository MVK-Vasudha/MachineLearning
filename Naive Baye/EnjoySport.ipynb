{
 "cells": [
  {
   "cell_type": "code",
   "execution_count": 21,
   "metadata": {},
   "outputs": [],
   "source": [
    "import pandas as pd\n",
    "from sklearn.naive_bayes import CategoricalNB\n",
    "from sklearn.model_selection import cross_val_score, StratifiedKFold\n",
    "from sklearn.metrics import confusion_matrix, accuracy_score, classification_report\n",
    "import numpy as np"
   ]
  },
  {
   "cell_type": "code",
   "execution_count": 22,
   "metadata": {},
   "outputs": [],
   "source": [
    "# Load the \"Enjoy Sports\" dataset\n",
    "file_path = 'Enjoy sports.csv'\n",
    "df_sports = pd.read_csv(file_path)\n",
    "\n",
    "# Drop the \"Day\" column as it is not relevant for classification\n",
    "df_sports = df_sports.drop('Day', axis=1)\n",
    "\n"
   ]
  },
  {
   "cell_type": "code",
   "execution_count": 23,
   "metadata": {},
   "outputs": [],
   "source": [
    "# Convert categorical features into dummy/indicator variables\n",
    "df_sports_encoded = pd.get_dummies(df_sports, drop_first=True)\n",
    "\n",
    "# Split the data into features (X) and target (y)\n",
    "X_sports = df_sports_encoded.drop('Decision_Yes', axis=1)\n",
    "y_sports = df_sports_encoded['Decision_Yes']\n",
    "\n",
    "# Train-test split\n",
    "# X_train_sports, X_test_sports, y_train_sports, y_test_sports = train_test_split(X_sports, y_sports, test_size=0.2, random_state=42)\n",
    "\n",
    "\n"
   ]
  },
  {
   "cell_type": "code",
   "execution_count": 24,
   "metadata": {},
   "outputs": [],
   "source": [
    "# Initialize and train the Naïve Bayes classifier\n",
    "nb_categorical = CategoricalNB()\n",
    "\n",
    "# Perform Stratified K-Fold Cross-Validation for better generalization on small datasets\n",
    "kf = StratifiedKFold(n_splits=5, shuffle=True, random_state=42)\n",
    "cross_val_scores = cross_val_score(nb_categorical, X_sports, y_sports, cv=kf, scoring='accuracy')\n",
    "\n",
    "# Fit the model on the entire dataset and make predictions to evaluate classification metrics\n",
    "nb_categorical.fit(X_sports, y_sports)\n",
    "y_pred_sports = nb_categorical.predict(X_sports)\n",
    "\n",
    "# Evaluation metrics\n",
    "conf_matrix = confusion_matrix(y_sports, y_pred_sports)\n",
    "accuracy = accuracy_score(y_sports, y_pred_sports)\n",
    "classification_rep = classification_report(y_sports, y_pred_sports)\n",
    "\n"
   ]
  },
  {
   "cell_type": "code",
   "execution_count": 25,
   "metadata": {},
   "outputs": [
    {
     "name": "stdout",
     "output_type": "stream",
     "text": [
      "Cross-Validation Accuracy Scores: [0.66666667 0.66666667 0.         0.66666667 0.5       ]\n",
      "Average Cross-Validation Accuracy: 0.5\n",
      "\n",
      "Confusion Matrix:\n",
      "[[3 2]\n",
      " [0 9]]\n",
      "\n",
      "Accuracy: 0.8571428571428571\n",
      "\n",
      "Classification Report:\n",
      "              precision    recall  f1-score   support\n",
      "\n",
      "       False       1.00      0.60      0.75         5\n",
      "        True       0.82      1.00      0.90         9\n",
      "\n",
      "    accuracy                           0.86        14\n",
      "   macro avg       0.91      0.80      0.82        14\n",
      "weighted avg       0.88      0.86      0.85        14\n",
      "\n"
     ]
    }
   ],
   "source": [
    "# Print results\n",
    "print(\"Cross-Validation Accuracy Scores:\", cross_val_scores)\n",
    "print(\"Average Cross-Validation Accuracy:\", np.mean(cross_val_scores))\n",
    "print(\"\\nConfusion Matrix:\")\n",
    "print(conf_matrix)\n",
    "print(\"\\nAccuracy:\", accuracy)\n",
    "print(\"\\nClassification Report:\")\n",
    "print(classification_rep)"
   ]
  }
 ],
 "metadata": {
  "kernelspec": {
   "display_name": "Python 3",
   "language": "python",
   "name": "python3"
  },
  "language_info": {
   "codemirror_mode": {
    "name": "ipython",
    "version": 3
   },
   "file_extension": ".py",
   "mimetype": "text/x-python",
   "name": "python",
   "nbconvert_exporter": "python",
   "pygments_lexer": "ipython3",
   "version": "3.12.1"
  }
 },
 "nbformat": 4,
 "nbformat_minor": 2
}
